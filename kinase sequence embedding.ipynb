{
 "cells": [
  {
   "cell_type": "markdown",
   "metadata": {},
   "source": [
    "# Find sequence embedding of human kinases in ChEMBL"
   ]
  },
  {
   "cell_type": "markdown",
   "metadata": {},
   "source": [
    "This notebook collect sequence information of human kinases in ChEMBL (based on [Jaime Rodríguez-Guerra's script](https://github.com/openkinome/datascripts/blob/master/kinases-in-chembl/kinases_in_chembl.ipynb) and plot the embedding of human kinases by the [UniRep](https://www.nature.com/articles/s41592-019-0598-1) model implemented in [Tasks Assessing Protein Embeddings (TAPE)](https://github.com/songlab-cal/tape)."
   ]
  },
  {
   "cell_type": "code",
   "execution_count": 93,
   "metadata": {},
   "outputs": [],
   "source": [
    "from pathlib import Path\n",
    "import urllib.request\n",
    "import pandas as pd\n",
    "from tqdm import tqdm\n",
    "import os\n",
    "import numpy as np"
   ]
  },
  {
   "cell_type": "markdown",
   "metadata": {},
   "source": [
    "### 1. Load all the human kinases in ChEMBL using [Jaime's code](https://github.com/openkinome/datascripts/blob/master/kinases-in-chembl/kinases_in_chembl.ipynb)"
   ]
  },
  {
   "cell_type": "code",
   "execution_count": 81,
   "metadata": {},
   "outputs": [
    {
     "data": {
      "text/html": [
       "<div>\n",
       "<style scoped>\n",
       "    .dataframe tbody tr th:only-of-type {\n",
       "        vertical-align: middle;\n",
       "    }\n",
       "\n",
       "    .dataframe tbody tr th {\n",
       "        vertical-align: top;\n",
       "    }\n",
       "\n",
       "    .dataframe thead th {\n",
       "        text-align: right;\n",
       "    }\n",
       "</style>\n",
       "<table border=\"1\" class=\"dataframe\">\n",
       "  <thead>\n",
       "    <tr style=\"text-align: right;\">\n",
       "      <th></th>\n",
       "      <th>xName</th>\n",
       "      <th>Manning Name</th>\n",
       "      <th>HGNC Name</th>\n",
       "      <th>Kinase Name</th>\n",
       "      <th>Group</th>\n",
       "      <th>Family</th>\n",
       "      <th>SubFamily</th>\n",
       "      <th>UniprotID</th>\n",
       "    </tr>\n",
       "  </thead>\n",
       "  <tbody>\n",
       "    <tr>\n",
       "      <th>0</th>\n",
       "      <td>ABL1</td>\n",
       "      <td>ABL</td>\n",
       "      <td>ABL1</td>\n",
       "      <td>Tyrosine-protein kinase ABL1</td>\n",
       "      <td>TK</td>\n",
       "      <td>Abl</td>\n",
       "      <td>NaN</td>\n",
       "      <td>P00519</td>\n",
       "    </tr>\n",
       "    <tr>\n",
       "      <th>1</th>\n",
       "      <td>ACK</td>\n",
       "      <td>ACK</td>\n",
       "      <td>TNK2</td>\n",
       "      <td>Activated CDC42 kinase 1</td>\n",
       "      <td>TK</td>\n",
       "      <td>Ack</td>\n",
       "      <td>NaN</td>\n",
       "      <td>Q07912</td>\n",
       "    </tr>\n",
       "    <tr>\n",
       "      <th>2</th>\n",
       "      <td>ACTR2</td>\n",
       "      <td>ACTR2</td>\n",
       "      <td>ACVR2A</td>\n",
       "      <td>Activin receptor type-2A</td>\n",
       "      <td>TKL</td>\n",
       "      <td>STKR</td>\n",
       "      <td>STKR2</td>\n",
       "      <td>P27037</td>\n",
       "    </tr>\n",
       "    <tr>\n",
       "      <th>3</th>\n",
       "      <td>ACTR2B</td>\n",
       "      <td>ACTR2B</td>\n",
       "      <td>ACVR2B</td>\n",
       "      <td>Activin receptor type-2B</td>\n",
       "      <td>TKL</td>\n",
       "      <td>STKR</td>\n",
       "      <td>STKR2</td>\n",
       "      <td>Q13705</td>\n",
       "    </tr>\n",
       "    <tr>\n",
       "      <th>4</th>\n",
       "      <td>ADCK4</td>\n",
       "      <td>ADCK4</td>\n",
       "      <td>ADCK4</td>\n",
       "      <td>Uncharacterized aarF domain-containing protein...</td>\n",
       "      <td>Atypical</td>\n",
       "      <td>ABC1</td>\n",
       "      <td>ABC1-A</td>\n",
       "      <td>Q96D53</td>\n",
       "    </tr>\n",
       "    <tr>\n",
       "      <th>...</th>\n",
       "      <td>...</td>\n",
       "      <td>...</td>\n",
       "      <td>...</td>\n",
       "      <td>...</td>\n",
       "      <td>...</td>\n",
       "      <td>...</td>\n",
       "      <td>...</td>\n",
       "      <td>...</td>\n",
       "    </tr>\n",
       "    <tr>\n",
       "      <th>531</th>\n",
       "      <td>GTF2F1</td>\n",
       "      <td>GTF2F1</td>\n",
       "      <td>NaN</td>\n",
       "      <td>NaN</td>\n",
       "      <td>Atypical</td>\n",
       "      <td>GTF2F1</td>\n",
       "      <td>NaN</td>\n",
       "      <td>Q6IBK5</td>\n",
       "    </tr>\n",
       "    <tr>\n",
       "      <th>532</th>\n",
       "      <td>Col4A3BP</td>\n",
       "      <td>Col4A3BP</td>\n",
       "      <td>COL4A3BP</td>\n",
       "      <td>Collagen type IV alpha-3-binding protein</td>\n",
       "      <td>Atypical</td>\n",
       "      <td>Col4A3BP</td>\n",
       "      <td>NaN</td>\n",
       "      <td>Q9Y5P4</td>\n",
       "    </tr>\n",
       "    <tr>\n",
       "      <th>533</th>\n",
       "      <td>BLVRA</td>\n",
       "      <td>BLVRA</td>\n",
       "      <td>BLVRA</td>\n",
       "      <td>Biliverdin reductase A</td>\n",
       "      <td>Atypical</td>\n",
       "      <td>BLVRA</td>\n",
       "      <td>NaN</td>\n",
       "      <td>P53004</td>\n",
       "    </tr>\n",
       "    <tr>\n",
       "      <th>534</th>\n",
       "      <td>BAZ1A</td>\n",
       "      <td>BAZ1A</td>\n",
       "      <td>BAZ1A</td>\n",
       "      <td>Bromodomain adjacent to zinc finger domain pro...</td>\n",
       "      <td>Atypical</td>\n",
       "      <td>BAZ</td>\n",
       "      <td>NaN</td>\n",
       "      <td>Q9NRL2</td>\n",
       "    </tr>\n",
       "    <tr>\n",
       "      <th>535</th>\n",
       "      <td>BAZ1B</td>\n",
       "      <td>BAZ1B</td>\n",
       "      <td>BAZ1B</td>\n",
       "      <td>Tyrosine-protein kinase BAZ1B</td>\n",
       "      <td>Atypical</td>\n",
       "      <td>BAZ</td>\n",
       "      <td>NaN</td>\n",
       "      <td>Q9UIG0</td>\n",
       "    </tr>\n",
       "  </tbody>\n",
       "</table>\n",
       "<p>536 rows × 8 columns</p>\n",
       "</div>"
      ],
      "text/plain": [
       "        xName Manning Name HGNC Name  \\\n",
       "0        ABL1          ABL      ABL1   \n",
       "1         ACK          ACK      TNK2   \n",
       "2       ACTR2        ACTR2    ACVR2A   \n",
       "3      ACTR2B       ACTR2B    ACVR2B   \n",
       "4       ADCK4        ADCK4     ADCK4   \n",
       "..        ...          ...       ...   \n",
       "531    GTF2F1       GTF2F1       NaN   \n",
       "532  Col4A3BP     Col4A3BP  COL4A3BP   \n",
       "533     BLVRA        BLVRA     BLVRA   \n",
       "534     BAZ1A        BAZ1A     BAZ1A   \n",
       "535     BAZ1B        BAZ1B     BAZ1B   \n",
       "\n",
       "                                           Kinase Name     Group    Family  \\\n",
       "0                         Tyrosine-protein kinase ABL1        TK       Abl   \n",
       "1                             Activated CDC42 kinase 1        TK       Ack   \n",
       "2                             Activin receptor type-2A       TKL      STKR   \n",
       "3                             Activin receptor type-2B       TKL      STKR   \n",
       "4    Uncharacterized aarF domain-containing protein...  Atypical      ABC1   \n",
       "..                                                 ...       ...       ...   \n",
       "531                                                NaN  Atypical    GTF2F1   \n",
       "532           Collagen type IV alpha-3-binding protein  Atypical  Col4A3BP   \n",
       "533                             Biliverdin reductase A  Atypical     BLVRA   \n",
       "534  Bromodomain adjacent to zinc finger domain pro...  Atypical       BAZ   \n",
       "535                      Tyrosine-protein kinase BAZ1B  Atypical       BAZ   \n",
       "\n",
       "    SubFamily UniprotID  \n",
       "0         NaN    P00519  \n",
       "1         NaN    Q07912  \n",
       "2       STKR2    P27037  \n",
       "3       STKR2    Q13705  \n",
       "4      ABC1-A    Q96D53  \n",
       "..        ...       ...  \n",
       "531       NaN    Q6IBK5  \n",
       "532       NaN    Q9Y5P4  \n",
       "533       NaN    P53004  \n",
       "534       NaN    Q9NRL2  \n",
       "535       NaN    Q9UIG0  \n",
       "\n",
       "[536 rows x 8 columns]"
      ]
     },
     "execution_count": 81,
     "metadata": {},
     "output_type": "execute_result"
    }
   ],
   "source": [
    "kinases = pd.read_csv(\"data/KinHubKinaseList.csv\")\n",
    "kinases"
   ]
  },
  {
   "cell_type": "code",
   "execution_count": 82,
   "metadata": {},
   "outputs": [],
   "source": [
    "CHEMBL_VERSION = \"chembl_27\"\n",
    "url = fr\"ftp://ftp.ebi.ac.uk/pub/databases/chembl/ChEMBLdb/releases/{CHEMBL_VERSION}/chembl_uniprot_mapping.txt\""
   ]
  },
  {
   "cell_type": "code",
   "execution_count": 83,
   "metadata": {},
   "outputs": [
    {
     "data": {
      "text/html": [
       "<div>\n",
       "<style scoped>\n",
       "    .dataframe tbody tr th:only-of-type {\n",
       "        vertical-align: middle;\n",
       "    }\n",
       "\n",
       "    .dataframe tbody tr th {\n",
       "        vertical-align: top;\n",
       "    }\n",
       "\n",
       "    .dataframe thead th {\n",
       "        text-align: right;\n",
       "    }\n",
       "</style>\n",
       "<table border=\"1\" class=\"dataframe\">\n",
       "  <thead>\n",
       "    <tr style=\"text-align: right;\">\n",
       "      <th></th>\n",
       "      <th>UniprotID</th>\n",
       "      <th>chembl_targets</th>\n",
       "      <th>sequence</th>\n",
       "      <th>type</th>\n",
       "    </tr>\n",
       "  </thead>\n",
       "  <tbody>\n",
       "    <tr>\n",
       "      <th>0</th>\n",
       "      <td>P21266</td>\n",
       "      <td>CHEMBL2242</td>\n",
       "      <td>Glutathione S-transferase Mu 3</td>\n",
       "      <td>SINGLE PROTEIN</td>\n",
       "    </tr>\n",
       "    <tr>\n",
       "      <th>1</th>\n",
       "      <td>O00519</td>\n",
       "      <td>CHEMBL2243</td>\n",
       "      <td>Anandamide amidohydrolase</td>\n",
       "      <td>SINGLE PROTEIN</td>\n",
       "    </tr>\n",
       "    <tr>\n",
       "      <th>2</th>\n",
       "      <td>P19217</td>\n",
       "      <td>CHEMBL2244</td>\n",
       "      <td>Estrogen sulfotransferase</td>\n",
       "      <td>SINGLE PROTEIN</td>\n",
       "    </tr>\n",
       "    <tr>\n",
       "      <th>3</th>\n",
       "      <td>P97292</td>\n",
       "      <td>CHEMBL2245</td>\n",
       "      <td>Histamine H2 receptor</td>\n",
       "      <td>SINGLE PROTEIN</td>\n",
       "    </tr>\n",
       "    <tr>\n",
       "      <th>4</th>\n",
       "      <td>P17342</td>\n",
       "      <td>CHEMBL2247</td>\n",
       "      <td>Atrial natriuretic peptide receptor C</td>\n",
       "      <td>SINGLE PROTEIN</td>\n",
       "    </tr>\n",
       "    <tr>\n",
       "      <th>...</th>\n",
       "      <td>...</td>\n",
       "      <td>...</td>\n",
       "      <td>...</td>\n",
       "      <td>...</td>\n",
       "    </tr>\n",
       "    <tr>\n",
       "      <th>11779</th>\n",
       "      <td>Q91ZR5</td>\n",
       "      <td>CHEMBL3886121</td>\n",
       "      <td>Cation channel sperm-associated protein 1</td>\n",
       "      <td>SINGLE PROTEIN</td>\n",
       "    </tr>\n",
       "    <tr>\n",
       "      <th>11780</th>\n",
       "      <td>P48763</td>\n",
       "      <td>CHEMBL3886122</td>\n",
       "      <td>Sodium/hydrogen exchanger 2</td>\n",
       "      <td>SINGLE PROTEIN</td>\n",
       "    </tr>\n",
       "    <tr>\n",
       "      <th>11781</th>\n",
       "      <td>Q9UKU6</td>\n",
       "      <td>CHEMBL3886123</td>\n",
       "      <td>Thyrotropin-releasing hormone-degrading ectoen...</td>\n",
       "      <td>SINGLE PROTEIN</td>\n",
       "    </tr>\n",
       "    <tr>\n",
       "      <th>11782</th>\n",
       "      <td>Q9JJH7</td>\n",
       "      <td>CHEMBL3886124</td>\n",
       "      <td>Transient receptor potential cation channel su...</td>\n",
       "      <td>SINGLE PROTEIN</td>\n",
       "    </tr>\n",
       "    <tr>\n",
       "      <th>11783</th>\n",
       "      <td>B2GV46</td>\n",
       "      <td>CHEMBL3886125</td>\n",
       "      <td>Free fatty acid receptor 3</td>\n",
       "      <td>SINGLE PROTEIN</td>\n",
       "    </tr>\n",
       "  </tbody>\n",
       "</table>\n",
       "<p>11784 rows × 4 columns</p>\n",
       "</div>"
      ],
      "text/plain": [
       "      UniprotID chembl_targets  \\\n",
       "0        P21266     CHEMBL2242   \n",
       "1        O00519     CHEMBL2243   \n",
       "2        P19217     CHEMBL2244   \n",
       "3        P97292     CHEMBL2245   \n",
       "4        P17342     CHEMBL2247   \n",
       "...         ...            ...   \n",
       "11779    Q91ZR5  CHEMBL3886121   \n",
       "11780    P48763  CHEMBL3886122   \n",
       "11781    Q9UKU6  CHEMBL3886123   \n",
       "11782    Q9JJH7  CHEMBL3886124   \n",
       "11783    B2GV46  CHEMBL3886125   \n",
       "\n",
       "                                                sequence            type  \n",
       "0                         Glutathione S-transferase Mu 3  SINGLE PROTEIN  \n",
       "1                              Anandamide amidohydrolase  SINGLE PROTEIN  \n",
       "2                              Estrogen sulfotransferase  SINGLE PROTEIN  \n",
       "3                                  Histamine H2 receptor  SINGLE PROTEIN  \n",
       "4                  Atrial natriuretic peptide receptor C  SINGLE PROTEIN  \n",
       "...                                                  ...             ...  \n",
       "11779          Cation channel sperm-associated protein 1  SINGLE PROTEIN  \n",
       "11780                        Sodium/hydrogen exchanger 2  SINGLE PROTEIN  \n",
       "11781  Thyrotropin-releasing hormone-degrading ectoen...  SINGLE PROTEIN  \n",
       "11782  Transient receptor potential cation channel su...  SINGLE PROTEIN  \n",
       "11783                         Free fatty acid receptor 3  SINGLE PROTEIN  \n",
       "\n",
       "[11784 rows x 4 columns]"
      ]
     },
     "execution_count": 83,
     "metadata": {},
     "output_type": "execute_result"
    }
   ],
   "source": [
    "with urllib.request.urlopen(url) as response:\n",
    "    uniprot_map = pd.read_csv(response, sep=\"\\t\", skiprows=[0], names=[\"UniprotID\", \"chembl_targets\", \"sequence\", \"type\"])\n",
    "uniprot_map"
   ]
  },
  {
   "cell_type": "code",
   "execution_count": 84,
   "metadata": {},
   "outputs": [],
   "source": [
    "merged = pd.merge(kinases, uniprot_map[[\"UniprotID\", \"chembl_targets\", \"type\"]], on='UniprotID')"
   ]
  },
  {
   "cell_type": "markdown",
   "metadata": {},
   "source": [
    "### 2. Output all 466 kinase sequences into FASTA"
   ]
  },
  {
   "cell_type": "code",
   "execution_count": 88,
   "metadata": {},
   "outputs": [
    {
     "name": "stderr",
     "output_type": "stream",
     "text": [
      "100%|██████████| 466/466 [01:00<00:00,  7.72it/s]\n"
     ]
    }
   ],
   "source": [
    "with open('chembl_kinase_seq.fasta','wb') as file:\n",
    "    for uniprot_id in tqdm(list(set(merged.UniprotID.tolist()))):\n",
    "        url = f\"https://www.uniprot.org/uniprot/{uniprot_id}.fasta\"\n",
    "        with urllib.request.urlopen(url) as response:\n",
    "            seq = str()\n",
    "            for line_number, line in enumerate(response):\n",
    "                line = line.decode()\n",
    "                if line[0] != '>':\n",
    "                    seq += line.strip('\\n')\n",
    "            file.write(b'>'+uniprot_id.encode()+b'\\n')\n",
    "            file.write(seq.encode()+b'\\n')\n",
    "            file.write(b'\\n')"
   ]
  },
  {
   "cell_type": "markdown",
   "metadata": {},
   "source": [
    "### 3. Enbem all kinase sequences with the [UniRep babbler-1900 model](https://www.nature.com/articles/s41592-019-0598-1), as incorporated in [Tasks Assessing Protein Embeddings (TAPE)](https://github.com/songlab-cal/tape).   "
   ]
  },
  {
   "cell_type": "code",
   "execution_count": 92,
   "metadata": {},
   "outputs": [
    {
     "data": {
      "text/plain": [
       "0"
      ]
     },
     "execution_count": 92,
     "metadata": {},
     "output_type": "execute_result"
    }
   ],
   "source": [
    "os.system('tape-embed unirep chembl_kinase_seq.fasta unirep_kinase.npz babbler-1900 --tokenizer unirep')"
   ]
  },
  {
   "cell_type": "code",
   "execution_count": 150,
   "metadata": {},
   "outputs": [],
   "source": [
    "arrays = np.load('unirep_kinase.npz', allow_pickle=True)"
   ]
  },
  {
   "cell_type": "code",
   "execution_count": 151,
   "metadata": {},
   "outputs": [],
   "source": [
    "#print(list(arrays.keys()))  # Will output the name of the keys in your fasta file (or if unnamed then '0', '1', ...)"
   ]
  },
  {
   "cell_type": "code",
   "execution_count": 194,
   "metadata": {},
   "outputs": [
    {
     "data": {
      "text/plain": [
       "array({'pooled': array([ 0.47064018, -0.7947617 , -0.76075447, ...,  5.661771  ,\n",
       "        4.832404  ,  2.3330503 ], dtype=float32), 'avg': array([ 0.00796701, -0.1440448 ,  0.09566606, ...,  0.15311624,\n",
       "        0.06413095,  0.00679516], dtype=float32)}, dtype=object)"
      ]
     },
     "execution_count": 194,
     "metadata": {},
     "output_type": "execute_result"
    }
   ],
   "source": [
    "arrays['P07333'] # Returns a dictionary with keys 'pooled' and 'avg', (or 'seq' if using the --full_sequence_embed flag)"
   ]
  },
  {
   "cell_type": "code",
   "execution_count": 190,
   "metadata": {},
   "outputs": [
    {
     "name": "stdout",
     "output_type": "stream",
     "text": [
      "Number of unique kinase sequences:  466\n"
     ]
    }
   ],
   "source": [
    "print(\"Number of unique kinase sequences: \", len(arrays))"
   ]
  },
  {
   "cell_type": "code",
   "execution_count": 192,
   "metadata": {},
   "outputs": [
    {
     "name": "stdout",
     "output_type": "stream",
     "text": [
      "Dimension of the pooled embedding:  3800\n"
     ]
    }
   ],
   "source": [
    "print(\"Dimension of the pooled embedding: \", len(arrays['P07333'].tolist()['pooled']))"
   ]
  },
  {
   "cell_type": "code",
   "execution_count": 193,
   "metadata": {},
   "outputs": [
    {
     "name": "stdout",
     "output_type": "stream",
     "text": [
      "Dimension of the averaged embedding:  1900\n"
     ]
    }
   ],
   "source": [
    "print(\"Dimension of the averaged embedding: \", len(arrays['P07333'].tolist()['avg']))"
   ]
  },
  {
   "cell_type": "markdown",
   "metadata": {},
   "source": [
    "#### Euclidean distance between two randomly selected kinase sequences (\"Ephrin type-B receptor 4\" and \"ABL1\"):"
   ]
  },
  {
   "cell_type": "code",
   "execution_count": 215,
   "metadata": {},
   "outputs": [
    {
     "data": {
      "text/plain": [
       "4.2378035"
      ]
     },
     "execution_count": 215,
     "metadata": {},
     "output_type": "execute_result"
    }
   ],
   "source": [
    "np.linalg.norm(arrays['P54760'].tolist()['avg'] - arrays['P00519'].tolist()['avg'])"
   ]
  },
  {
   "cell_type": "markdown",
   "metadata": {},
   "source": [
    "#### Euclidean distance between EGFR and HER2 (from same family):"
   ]
  },
  {
   "cell_type": "code",
   "execution_count": 199,
   "metadata": {},
   "outputs": [
    {
     "data": {
      "text/plain": [
       "0.7241786"
      ]
     },
     "execution_count": 199,
     "metadata": {},
     "output_type": "execute_result"
    }
   ],
   "source": [
    "np.linalg.norm(arrays['P00533'].tolist()['avg'] - arrays['P04626'].tolist()['avg'])"
   ]
  },
  {
   "cell_type": "markdown",
   "metadata": {},
   "source": [
    "#### As negative control, also import the embedding of some non-kinase proteins (e.g. 126 human ligases from UniProt as shown here)."
   ]
  },
  {
   "cell_type": "code",
   "execution_count": null,
   "metadata": {},
   "outputs": [],
   "source": [
    "os.system('tape-embed unirep human_ligases.fasta unirep_ligase.npz babbler-1900 --tokenizer unirep')"
   ]
  },
  {
   "cell_type": "code",
   "execution_count": 245,
   "metadata": {},
   "outputs": [],
   "source": [
    "ligase_arrays = np.load('unirep_ligase.npz', allow_pickle=True)"
   ]
  },
  {
   "cell_type": "code",
   "execution_count": 250,
   "metadata": {},
   "outputs": [],
   "source": [
    "#print(list(ligase_arrays.keys()))"
   ]
  },
  {
   "cell_type": "markdown",
   "metadata": {},
   "source": [
    "#### Euclidean distance between a randomly selected ligase and a kinase sequence (\"Ephrin type-B receptor 4\" and \"ABL1\"):"
   ]
  },
  {
   "cell_type": "code",
   "execution_count": 243,
   "metadata": {},
   "outputs": [
    {
     "data": {
      "text/plain": [
       "4.0277777"
      ]
     },
     "execution_count": 243,
     "metadata": {},
     "output_type": "execute_result"
    }
   ],
   "source": [
    "np.linalg.norm(ligase_arrays['sp|Q6ZT98|TTLL7_HUMAN'].tolist()['avg'] - arrays['P00519'].tolist()['avg'])"
   ]
  },
  {
   "cell_type": "markdown",
   "metadata": {},
   "source": [
    "#### Compute the pairwise Euclidean distance between all kinase sequences:"
   ]
  },
  {
   "cell_type": "code",
   "execution_count": 228,
   "metadata": {},
   "outputs": [
    {
     "name": "stderr",
     "output_type": "stream",
     "text": [
      "100%|██████████| 466/466 [00:00<00:00, 2457.09it/s]\n"
     ]
    }
   ],
   "source": [
    "kinase_embedding = np.zeros((466, 1900))\n",
    "count = 0\n",
    "for uniprot_id in tqdm(list(set(merged.UniprotID.tolist()))):\n",
    "    kinase_embedding[count] = arrays[uniprot_id].tolist()['avg']\n",
    "    count += 1"
   ]
  },
  {
   "cell_type": "code",
   "execution_count": 229,
   "metadata": {},
   "outputs": [
    {
     "data": {
      "text/plain": [
       "(466, 1900)"
      ]
     },
     "execution_count": 229,
     "metadata": {},
     "output_type": "execute_result"
    }
   ],
   "source": [
    "kinase_embedding.shape"
   ]
  },
  {
   "cell_type": "code",
   "execution_count": 230,
   "metadata": {},
   "outputs": [],
   "source": [
    "from sklearn.metrics import pairwise"
   ]
  },
  {
   "cell_type": "code",
   "execution_count": 244,
   "metadata": {},
   "outputs": [],
   "source": [
    "kinase_pair_distance = pairwise.euclidean_distances(kinase_embedding) # compute pairwise distances\n",
    "kinase_unique = np.triu(kinase_pair_distance)\n",
    "rows1, cols1 = np.nonzero(kinase_unique)"
   ]
  },
  {
   "cell_type": "markdown",
   "metadata": {},
   "source": [
    "#### Compute the pairwise Euclidean distance between all kinase sequences and ligases:"
   ]
  },
  {
   "cell_type": "code",
   "execution_count": 252,
   "metadata": {},
   "outputs": [
    {
     "name": "stderr",
     "output_type": "stream",
     "text": [
      "100%|██████████| 126/126 [00:00<00:00, 2097.45it/s]\n"
     ]
    }
   ],
   "source": [
    "ligase_embedding = np.zeros((126, 1900))\n",
    "count = 0\n",
    "for uniprot_id in tqdm(list(ligase_arrays.keys())):\n",
    "    ligase_embedding[count] = ligase_arrays[uniprot_id].tolist()['avg']\n",
    "    count += 1"
   ]
  },
  {
   "cell_type": "code",
   "execution_count": 241,
   "metadata": {},
   "outputs": [],
   "source": [
    "%matplotlib inline\n",
    "\n",
    "import matplotlib\n",
    "import numpy as np\n",
    "import matplotlib.pyplot as plt"
   ]
  },
  {
   "cell_type": "code",
   "execution_count": 259,
   "metadata": {},
   "outputs": [],
   "source": [
    "KL_pair_distance = pairwise.euclidean_distances(kinase_embedding, ligase_embedding) # compute pairwise distances\n",
    "rows2, cols2 = np.nonzero(KL_pair_distance)"
   ]
  },
  {
   "cell_type": "code",
   "execution_count": 261,
   "metadata": {},
   "outputs": [
    {
     "data": {
      "text/plain": [
       "(array([1.2000e+01, 7.6000e+01, 2.0400e+02, 4.2200e+02, 1.0580e+03,\n",
       "        2.1560e+03, 4.5220e+03, 9.8520e+03, 1.3437e+04, 1.1182e+04,\n",
       "        8.1020e+03, 4.2200e+03, 1.8370e+03, 5.4000e+02, 1.8000e+02,\n",
       "        3.3700e+02, 4.0100e+02, 1.2800e+02, 3.5000e+01, 1.5000e+01]),\n",
       " array([1.26686083, 1.65796592, 2.04907101, 2.4401761 , 2.8312812 ,\n",
       "        3.22238629, 3.61349138, 4.00459647, 4.39570157, 4.78680666,\n",
       "        5.17791175, 5.56901684, 5.96012194, 6.35122703, 6.74233212,\n",
       "        7.13343721, 7.5245423 , 7.9156474 , 8.30675249, 8.69785758,\n",
       "        9.08896267]),\n",
       " <a list of 20 Patch objects>)"
      ]
     },
     "execution_count": 261,
     "metadata": {},
     "output_type": "execute_result"
    },
    {
     "data": {
      "image/png": "[encoded data removed]",
      "text/plain": [
       "<Figure size 432x288 with 1 Axes>"
      ]
     },
     "metadata": {
      "needs_background": "light"
     },
     "output_type": "display_data"
    }
   ],
   "source": [
    "plt.hist(list(kinase_unique[rows1, cols1]), bins=20, alpha=0.5)\n",
    "plt.hist(list(KL_pair_distance[rows2, cols2]), bins=20, color='r', alpha=0.5)"
   ]
  },
  {
   "cell_type": "code",
   "execution_count": null,
   "metadata": {},
   "outputs": [],
   "source": []
  }
 ],
 "metadata": {
  "kernelspec": {
   "display_name": "tape",
   "language": "python",
   "name": "tape"
  },
  "language_info": {
   "codemirror_mode": {
    "name": "ipython",
    "version": 3
   },
   "file_extension": ".py",
   "mimetype": "text/x-python",
   "name": "python",
   "nbconvert_exporter": "python",
   "pygments_lexer": "ipython3",
   "version": "3.6.10"
  }
 },
 "nbformat": 4,
 "nbformat_minor": 2
}
